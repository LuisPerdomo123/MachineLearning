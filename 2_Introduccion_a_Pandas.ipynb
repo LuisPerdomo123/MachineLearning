{
  "nbformat": 4,
  "nbformat_minor": 0,
  "metadata": {
    "colab": {
      "provenance": [],
      "authorship_tag": "ABX9TyOzEdiaS51yKbNID3e5sghX",
      "include_colab_link": true
    },
    "kernelspec": {
      "name": "python3",
      "display_name": "Python 3"
    },
    "language_info": {
      "name": "python"
    }
  },
  "cells": [
    {
      "cell_type": "markdown",
      "metadata": {
        "id": "view-in-github",
        "colab_type": "text"
      },
      "source": [
        "<a href=\"https://colab.research.google.com/github/LuisPerdomo123/MachineLearning/blob/main/2_Introduccion_a_Pandas.ipynb\" target=\"_parent\"><img src=\"https://colab.research.google.com/assets/colab-badge.svg\" alt=\"Open In Colab\"/></a>"
      ]
    },
    {
      "cell_type": "markdown",
      "source": [
        "# Introducción a Pandas\n",
        "\n",
        "Pandas es una librería que proporciona estructuras de datos y herramientas de análisis de datos de alto rendimiento y fáciles de usar.\n",
        "\n",
        "\n",
        "\n",
        "*   La estructura de datos principal es el DataFrame, que puede considerarse como una tabla 2D en memoria (como una hoja de cálculo, con nombres de columna y etiquetas de fila).\n",
        "*   Muchas funciones disponibles en Excel están disponibles mediante programación, como crear tablas dinámicas, calcilar columnas basadas en otras columnas, trazar gráficos, etc.\n",
        "*   Proporciona un alto rendimiento para manipular (unir, dividir, modificar...) grandes conjuntos de datos\n",
        "\n"
      ],
      "metadata": {
        "id": "53FrcWBnzEC2"
      }
    },
    {
      "cell_type": "markdown",
      "source": [
        "## Import"
      ],
      "metadata": {
        "id": "-lrFX-ifz8GM"
      }
    },
    {
      "cell_type": "code",
      "execution_count": 1,
      "metadata": {
        "id": "jNXX6X4_y-nQ"
      },
      "outputs": [],
      "source": [
        "import pandas as pd"
      ]
    },
    {
      "cell_type": "markdown",
      "source": [
        "## Estructura de datos en Pandas\n",
        "\n",
        "La librería Pandas, de manera genérica, contiene las sigjuientes estructuras de datos:\n",
        "\n",
        "\n",
        "\n",
        "*   **Series:** Array de una dimensión.\n",
        "*   **DataFrame:** Se corresponde con una tabla de 2 dimensiones.\n",
        "*   **Panel:** Similar a un diccionario de DataFrames.\n",
        "\n"
      ],
      "metadata": {
        "id": "3r3OspoBzC6e"
      }
    },
    {
      "cell_type": "markdown",
      "source": [
        "## Creación del objeto Series"
      ],
      "metadata": {
        "id": "y7yq5vO-0xUn"
      }
    },
    {
      "cell_type": "code",
      "source": [
        "# Creación de un objeto Series\n",
        "s = pd.Series([2,4,6,8,10])\n",
        "s"
      ],
      "metadata": {
        "colab": {
          "base_uri": "https://localhost:8080/"
        },
        "id": "GiCPq50K0ASw",
        "outputId": "1dd81fc3-304e-4e81-de28-a29236a999c5"
      },
      "execution_count": 3,
      "outputs": [
        {
          "output_type": "execute_result",
          "data": {
            "text/plain": [
              "0     2\n",
              "1     4\n",
              "2     6\n",
              "3     8\n",
              "4    10\n",
              "dtype: int64"
            ]
          },
          "metadata": {},
          "execution_count": 3
        }
      ]
    },
    {
      "cell_type": "code",
      "source": [
        "# Creación de un objeto Series inicializándolo con un diccionario de Python\n",
        "altura = {\"Santiago\": 187, \"Pedro\": 178, \"Julia\": 170, \"Ana\": 165}\n",
        "s = pd.Series(altura)\n",
        "s"
      ],
      "metadata": {
        "colab": {
          "base_uri": "https://localhost:8080/"
        },
        "id": "zUX6andM1CjP",
        "outputId": "6c920998-c212-44c2-ed6f-81269008be83"
      },
      "execution_count": 5,
      "outputs": [
        {
          "output_type": "execute_result",
          "data": {
            "text/plain": [
              "Santiago    187\n",
              "Pedro       178\n",
              "Julia       170\n",
              "Ana         165\n",
              "dtype: int64"
            ]
          },
          "metadata": {},
          "execution_count": 5
        }
      ]
    },
    {
      "cell_type": "code",
      "source": [
        "# Creación de un objeto Series inicializándolo con algunos\n",
        "# de los elementos de un diccionario de Python\n",
        "altura = {\"Santiago\": 187, \"Pedro\": 178, \"Julia\": 170, \"Ana\": 165}\n",
        "s = pd.Series(altura, index = [\"Pedro\", \"Julia\"])\n",
        "s"
      ],
      "metadata": {
        "colab": {
          "base_uri": "https://localhost:8080/"
        },
        "id": "8CGIbqcY1RwR",
        "outputId": "1efb7c84-027a-4d7f-a632-a2309aa55392"
      },
      "execution_count": 7,
      "outputs": [
        {
          "output_type": "execute_result",
          "data": {
            "text/plain": [
              "Pedro    178\n",
              "Julia    170\n",
              "dtype: int64"
            ]
          },
          "metadata": {},
          "execution_count": 7
        }
      ]
    },
    {
      "cell_type": "code",
      "source": [
        "# Creación de un objeto Series inicializandolo con un escalar\n",
        "s = pd.Series(30, [\"test1\", \"test2\", \"test3\"])\n",
        "s"
      ],
      "metadata": {
        "colab": {
          "base_uri": "https://localhost:8080/"
        },
        "id": "CLW3LTnr2HfO",
        "outputId": "00b7e000-7759-4401-ba42-2626ab4002ed"
      },
      "execution_count": 8,
      "outputs": [
        {
          "output_type": "execute_result",
          "data": {
            "text/plain": [
              "test1    30\n",
              "test2    30\n",
              "test3    30\n",
              "dtype: int64"
            ]
          },
          "metadata": {},
          "execution_count": 8
        }
      ]
    },
    {
      "cell_type": "markdown",
      "source": [
        "## Acceso a los elementos de un objeto Series\n",
        "\n",
        "Cada elemento en un objeto Series tiene un identificador único que se denomina **index label**."
      ],
      "metadata": {
        "id": "_RsjnbtL2vni"
      }
    },
    {
      "cell_type": "code",
      "source": [
        "# Creación de un objeto Series\n",
        "s = pd.Series([2,4,6,8], index = [\"mun1\", \"num2\", \"num3\", \"mun4\"])\n",
        "s"
      ],
      "metadata": {
        "colab": {
          "base_uri": "https://localhost:8080/"
        },
        "id": "MHRcjEfQ2blR",
        "outputId": "e41ffcfd-8845-4fbd-b84e-a440ac2e6e6d"
      },
      "execution_count": 10,
      "outputs": [
        {
          "output_type": "execute_result",
          "data": {
            "text/plain": [
              "mun1    2\n",
              "num2    4\n",
              "num3    6\n",
              "mun4    8\n",
              "dtype: int64"
            ]
          },
          "metadata": {},
          "execution_count": 10
        }
      ]
    },
    {
      "cell_type": "code",
      "source": [
        "# Accediendo al tercer elemento del objeto\n",
        "s[\"num3\"]"
      ],
      "metadata": {
        "colab": {
          "base_uri": "https://localhost:8080/"
        },
        "id": "aojThZSz3JC8",
        "outputId": "1555d7fb-d19d-4414-a335-128943d86e05"
      },
      "execution_count": 11,
      "outputs": [
        {
          "output_type": "execute_result",
          "data": {
            "text/plain": [
              "6"
            ]
          },
          "metadata": {},
          "execution_count": 11
        }
      ]
    },
    {
      "cell_type": "code",
      "source": [
        "# También se puede acceder al elemento por posición\n",
        "s[2]"
      ],
      "metadata": {
        "colab": {
          "base_uri": "https://localhost:8080/"
        },
        "id": "VjL_IZRZ3MQx",
        "outputId": "c3e04acc-05e8-4ce7-85a6-78b59f319884"
      },
      "execution_count": 12,
      "outputs": [
        {
          "output_type": "execute_result",
          "data": {
            "text/plain": [
              "6"
            ]
          },
          "metadata": {},
          "execution_count": 12
        }
      ]
    },
    {
      "cell_type": "code",
      "source": [
        "# Loc es la forma estándar de acceder a un elemento de un objeto Series por atributo\n",
        "s.loc[\"num3\"]"
      ],
      "metadata": {
        "colab": {
          "base_uri": "https://localhost:8080/"
        },
        "id": "oiHPG8AK3RiI",
        "outputId": "f5f75819-db68-497f-edf7-f643065a40b2"
      },
      "execution_count": 13,
      "outputs": [
        {
          "output_type": "execute_result",
          "data": {
            "text/plain": [
              "6"
            ]
          },
          "metadata": {},
          "execution_count": 13
        }
      ]
    },
    {
      "cell_type": "code",
      "source": [
        "# iLoc es la forma estándar de acceder a un elemento de un objeto Series por posición\n",
        "s.iloc[2]"
      ],
      "metadata": {
        "colab": {
          "base_uri": "https://localhost:8080/"
        },
        "id": "4QvmYLcW3Zal",
        "outputId": "192e4102-fea0-43cc-97b8-827a79a63774"
      },
      "execution_count": 14,
      "outputs": [
        {
          "output_type": "execute_result",
          "data": {
            "text/plain": [
              "6"
            ]
          },
          "metadata": {},
          "execution_count": 14
        }
      ]
    },
    {
      "cell_type": "code",
      "source": [
        "# Accediendo al segundo y tercer elemento por posición\n",
        "s.iloc[2:4]"
      ],
      "metadata": {
        "colab": {
          "base_uri": "https://localhost:8080/"
        },
        "id": "ECnM3owZ42D0",
        "outputId": "443d9fb2-5233-460c-f5d5-dee9d47005da"
      },
      "execution_count": 15,
      "outputs": [
        {
          "output_type": "execute_result",
          "data": {
            "text/plain": [
              "num3    6\n",
              "mun4    8\n",
              "dtype: int64"
            ]
          },
          "metadata": {},
          "execution_count": 15
        }
      ]
    },
    {
      "cell_type": "markdown",
      "source": [
        "## Operaciones aritméticas con Series"
      ],
      "metadata": {
        "id": "4rQ73IZY5RZi"
      }
    },
    {
      "cell_type": "code",
      "source": [
        "# Creación de un objeto Series\n",
        "s = pd.Series([2,4,6,8,10])\n",
        "s"
      ],
      "metadata": {
        "colab": {
          "base_uri": "https://localhost:8080/"
        },
        "id": "rp-GPwko5Dua",
        "outputId": "a292c297-573f-4702-e150-9a47466eb5f7"
      },
      "execution_count": 16,
      "outputs": [
        {
          "output_type": "execute_result",
          "data": {
            "text/plain": [
              "0     2\n",
              "1     4\n",
              "2     6\n",
              "3     8\n",
              "4    10\n",
              "dtype: int64"
            ]
          },
          "metadata": {},
          "execution_count": 16
        }
      ]
    },
    {
      "cell_type": "code",
      "source": [
        "# Los objetos Series son similares y compatibles con lo Arrays de Numpy\n",
        "import numpy as np\n",
        "# Ufunc de Numpy para sumar los elementos de un Array\n",
        "np.sum(s)"
      ],
      "metadata": {
        "colab": {
          "base_uri": "https://localhost:8080/"
        },
        "id": "DjYnhRlL5nLC",
        "outputId": "4d03a943-75e7-4cd3-a9f4-dce4758ac88e"
      },
      "execution_count": 17,
      "outputs": [
        {
          "output_type": "execute_result",
          "data": {
            "text/plain": [
              "30"
            ]
          },
          "metadata": {},
          "execution_count": 17
        }
      ]
    },
    {
      "cell_type": "code",
      "source": [
        "# El resto de operaciones aritméticas de Numpy sobre Arrays también son posibles\n",
        "# Más información al respecto en la Introducción a Numpy\n",
        "s*2"
      ],
      "metadata": {
        "colab": {
          "base_uri": "https://localhost:8080/"
        },
        "id": "3kboc95E5yZ4",
        "outputId": "13404368-48c4-44fa-e354-62d8277f55c1"
      },
      "execution_count": 18,
      "outputs": [
        {
          "output_type": "execute_result",
          "data": {
            "text/plain": [
              "0     4\n",
              "1     8\n",
              "2    12\n",
              "3    16\n",
              "4    20\n",
              "dtype: int64"
            ]
          },
          "metadata": {},
          "execution_count": 18
        }
      ]
    },
    {
      "cell_type": "markdown",
      "source": [
        "## Representación gráfica de un objeto series"
      ],
      "metadata": {
        "id": "08f0b4wM6aOx"
      }
    },
    {
      "cell_type": "code",
      "source": [
        "# Creación de un objeto Series denominado Temperaturas\n",
        "temperaturas = [4.4, 5.1, 6.1, 6.2, 6.1, 6.1, 5.7, 5.2, 4.7, 4.1, 3.9]\n",
        "\n",
        "s = pd.Series(temperaturas, name = \"Temperaturas\")"
      ],
      "metadata": {
        "id": "7KLZbc7R6RFt"
      },
      "execution_count": 19,
      "outputs": []
    },
    {
      "cell_type": "code",
      "source": [
        "# Representación gráfica del objeto Series\n",
        "%matplotlib inline\n",
        "import matplotlib.pyplot as plt\n",
        "\n",
        "s.plot()\n",
        "plt.show()"
      ],
      "metadata": {
        "colab": {
          "base_uri": "https://localhost:8080/",
          "height": 430
        },
        "id": "IJTlWH9S9gMZ",
        "outputId": "64e733b4-f8e2-4b78-893b-e8d5abf20662"
      },
      "execution_count": 20,
      "outputs": [
        {
          "output_type": "display_data",
          "data": {
            "text/plain": [
              "<Figure size 640x480 with 1 Axes>"
            ],
            "image/png": "[encoded data removed]"
          },
          "metadata": {}
        }
      ]
    },
    {
      "cell_type": "code",
      "source": [],
      "metadata": {
        "id": "hAh4pKCa90jb"
      },
      "execution_count": null,
      "outputs": []
    }
  ]
}