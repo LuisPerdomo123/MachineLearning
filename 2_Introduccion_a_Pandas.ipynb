{
  "nbformat": 4,
  "nbformat_minor": 0,
  "metadata": {
    "colab": {
      "provenance": [],
      "authorship_tag": "ABX9TyMMDhcAvxO0S9K5WHdmKHvt",
      "include_colab_link": true
    },
    "kernelspec": {
      "name": "python3",
      "display_name": "Python 3"
    },
    "language_info": {
      "name": "python"
    }
  },
  "cells": [
    {
      "cell_type": "markdown",
      "metadata": {
        "id": "view-in-github",
        "colab_type": "text"
      },
      "source": [
        "<a href=\"https://colab.research.google.com/github/LuisPerdomo123/MachineLearning/blob/main/2_Introduccion_a_Pandas.ipynb\" target=\"_parent\"><img src=\"https://colab.research.google.com/assets/colab-badge.svg\" alt=\"Open In Colab\"/></a>"
      ]
    },
    {
      "cell_type": "markdown",
      "source": [
        "# Introducción a Pandas\n",
        "\n",
        "Pandas es una librería que proporciona estructuras de datos y herramientas de análisis de datos de alto rendimiento y fáciles de usar.\n",
        "\n",
        "\n",
        "\n",
        "*   La estructura de datos principal es el DataFrame, que puede considerarse como una tabla 2D en memoria (como una hoja de cálculo, con nombres de columna y etiquetas de fila).\n",
        "*   Muchas funciones disponibles en Excel están disponibles mediante programación, como crear tablas dinámicas, calcilar columnas basadas en otras columnas, trazar gráficos, etc.\n",
        "*   Proporciona un alto rendimiento para manipular (unir, dividir, modificar...) grandes conjuntos de datos\n",
        "\n"
      ],
      "metadata": {
        "id": "53FrcWBnzEC2"
      }
    },
    {
      "cell_type": "markdown",
      "source": [
        "## Import"
      ],
      "metadata": {
        "id": "-lrFX-ifz8GM"
      }
    },
    {
      "cell_type": "code",
      "execution_count": 1,
      "metadata": {
        "id": "jNXX6X4_y-nQ"
      },
      "outputs": [],
      "source": [
        "import pandas as pd"
      ]
    },
    {
      "cell_type": "markdown",
      "source": [
        "## Estructura de datos en Pandas\n",
        "\n",
        "La librería Pandas, de manera genérica, contiene las sigjuientes estructuras de datos:\n",
        "\n",
        "\n",
        "\n",
        "*   **Series:** Array de una dimensión.\n",
        "*   **DataFrame:** Se corresponde con una tabla de 2 dimensiones.\n",
        "*   **Panel:** Similar a un diccionario de DataFrames.\n",
        "\n"
      ],
      "metadata": {
        "id": "3r3OspoBzC6e"
      }
    },
    {
      "cell_type": "markdown",
      "source": [
        "## Creación del objeto Series"
      ],
      "metadata": {
        "id": "y7yq5vO-0xUn"
      }
    },
    {
      "cell_type": "code",
      "source": [
        "# Creación de un objeto Series\n",
        "s = pd.Series([2,4,6,8,10])\n",
        "s"
      ],
      "metadata": {
        "colab": {
          "base_uri": "https://localhost:8080/"
        },
        "id": "GiCPq50K0ASw",
        "outputId": "1dd81fc3-304e-4e81-de28-a29236a999c5"
      },
      "execution_count": 3,
      "outputs": [
        {
          "output_type": "execute_result",
          "data": {
            "text/plain": [
              "0     2\n",
              "1     4\n",
              "2     6\n",
              "3     8\n",
              "4    10\n",
              "dtype: int64"
            ]
          },
          "metadata": {},
          "execution_count": 3
        }
      ]
    },
    {
      "cell_type": "code",
      "source": [
        "# Creación de un objeto Series inicializándolo con un diccionario de Python\n",
        "altura = {\"Santiago\": 187, \"Pedro\": 178, \"Julia\": 170, \"Ana\": 165}\n",
        "s = pd.Series(altura)\n",
        "s"
      ],
      "metadata": {
        "colab": {
          "base_uri": "https://localhost:8080/"
        },
        "id": "zUX6andM1CjP",
        "outputId": "6c920998-c212-44c2-ed6f-81269008be83"
      },
      "execution_count": 5,
      "outputs": [
        {
          "output_type": "execute_result",
          "data": {
            "text/plain": [
              "Santiago    187\n",
              "Pedro       178\n",
              "Julia       170\n",
              "Ana         165\n",
              "dtype: int64"
            ]
          },
          "metadata": {},
          "execution_count": 5
        }
      ]
    },
    {
      "cell_type": "code",
      "source": [
        "# Creación de un objeto Series inicializándolo con algunos\n",
        "# de los elementos de un diccionario de Python\n",
        "altura = {\"Santiago\": 187, \"Pedro\": 178, \"Julia\": 170, \"Ana\": 165}\n",
        "s = pd.Series(altura, index = [\"Pedro\", \"Julia\"])\n",
        "s"
      ],
      "metadata": {
        "colab": {
          "base_uri": "https://localhost:8080/"
        },
        "id": "8CGIbqcY1RwR",
        "outputId": "1efb7c84-027a-4d7f-a632-a2309aa55392"
      },
      "execution_count": 7,
      "outputs": [
        {
          "output_type": "execute_result",
          "data": {
            "text/plain": [
              "Pedro    178\n",
              "Julia    170\n",
              "dtype: int64"
            ]
          },
          "metadata": {},
          "execution_count": 7
        }
      ]
    },
    {
      "cell_type": "code",
      "source": [
        "# Creación de un objeto Series inicializandolo con un escalar\n",
        "s = pd.Series(30, [\"test1\", \"test2\", \"test3\"])\n",
        "s"
      ],
      "metadata": {
        "colab": {
          "base_uri": "https://localhost:8080/"
        },
        "id": "CLW3LTnr2HfO",
        "outputId": "00b7e000-7759-4401-ba42-2626ab4002ed"
      },
      "execution_count": 8,
      "outputs": [
        {
          "output_type": "execute_result",
          "data": {
            "text/plain": [
              "test1    30\n",
              "test2    30\n",
              "test3    30\n",
              "dtype: int64"
            ]
          },
          "metadata": {},
          "execution_count": 8
        }
      ]
    },
    {
      "cell_type": "code",
      "source": [],
      "metadata": {
        "id": "MHRcjEfQ2blR"
      },
      "execution_count": null,
      "outputs": []
    }
  ]
}