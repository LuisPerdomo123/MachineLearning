{
  "nbformat": 4,
  "nbformat_minor": 0,
  "metadata": {
    "colab": {
      "provenance": [],
      "authorship_tag": "ABX9TyP9y/SUaxRz/TZ7r8lOxafg",
      "include_colab_link": true
    },
    "kernelspec": {
      "name": "python3",
      "display_name": "Python 3"
    },
    "language_info": {
      "name": "python"
    }
  },
  "cells": [
    {
      "cell_type": "markdown",
      "metadata": {
        "id": "view-in-github",
        "colab_type": "text"
      },
      "source": [
        "<a href=\"https://colab.research.google.com/github/LuisPerdomo123/MachineLearning/blob/main/1_Introducci%C3%B3n_a_Numpy.ipynb\" target=\"_parent\"><img src=\"https://colab.research.google.com/assets/colab-badge.svg\" alt=\"Open In Colab\"/></a>"
      ]
    },
    {
      "cell_type": "markdown",
      "source": [
        "# Introducción a NumPy"
      ],
      "metadata": {
        "id": "CbsDqclqVFTe"
      }
    },
    {
      "cell_type": "markdown",
      "source": [
        "Numpy es una librería fundamental para la computación científica con Python.\n",
        "\n",
        "\n",
        "\n",
        "*   Proporciona arrays N-dimensionales\n",
        "*   Implementa funciones matemáticas sofisticadas\n",
        "*   Proporciona herramientas para integrar C/C++ y Fortran\n",
        "*   Proporciona mecanismos para facilitar la realización de tareas relacionadas con álgebra lineal o números aleatorios.\n",
        "\n"
      ],
      "metadata": {
        "id": "kg0aneUEVJZv"
      }
    },
    {
      "cell_type": "markdown",
      "source": [
        "## Imports"
      ],
      "metadata": {
        "id": "vd-1erwhVlZk"
      }
    },
    {
      "cell_type": "code",
      "execution_count": null,
      "metadata": {
        "id": "mBbz8iUNVDn6"
      },
      "outputs": [],
      "source": [
        "import numpy as np"
      ]
    },
    {
      "cell_type": "markdown",
      "source": [
        "## Arrays\n",
        "\n",
        "Un **arrary** es una estructura de datos que consiste en una colección de elementos (valores o variables), cada uno identificado por al menos un indice o clave. Un array se almacena de modo que la posición de cada elemento se pueda calcular a partir de su tupla de indice mediante una fórmiula matemática. El tipo más simple de array es un array lineal, también llamado array unidimensional.\n",
        "\n",
        "En numpy:\n",
        "\n",
        "\n",
        "*   Cada dimensión se denomina **axis**\n",
        "*   El número de dimensiones se denomina **rank**\n",
        "*   La lista de dimensiones con su correspondiente longitud se denimina **shape**\n",
        "*   El número total de elementos (multiplicación de la longitud de las dimensiones) se denomina **size**"
      ],
      "metadata": {
        "id": "lC9dVbCSWUE3"
      }
    },
    {
      "cell_type": "code",
      "source": [
        "# Array cuyos valores son todos\n",
        "a = np.zeros((2, 4)) # Tiene dos filas y cuatro columnas"
      ],
      "metadata": {
        "id": "EisYdkB8WRfy"
      },
      "execution_count": null,
      "outputs": []
    },
    {
      "cell_type": "code",
      "source": [
        "a"
      ],
      "metadata": {
        "colab": {
          "base_uri": "https://localhost:8080/"
        },
        "id": "G06N3amkXyib",
        "outputId": "41aaf9c9-b3b0-4f61-da06-8f2b0d3858a7"
      },
      "execution_count": null,
      "outputs": [
        {
          "output_type": "execute_result",
          "data": {
            "text/plain": [
              "array([[0., 0., 0., 0.],\n",
              "       [0., 0., 0., 0.]])"
            ]
          },
          "metadata": {},
          "execution_count": 5
        }
      ]
    },
    {
      "cell_type": "markdown",
      "source": [
        "**a** es un array:\n",
        "\n",
        "*   Con dos **axis**, el primero de longitud 2 y el segundo de longitud 4.\n",
        "*   Con un **rank** igual a 2.\n",
        "*   Con un **shape** igual (2, 4)\n",
        "*   Con un **size** igual a 8\n",
        "\n"
      ],
      "metadata": {
        "id": "Ap_MtYciX78k"
      }
    },
    {
      "cell_type": "code",
      "source": [
        "a.shape"
      ],
      "metadata": {
        "colab": {
          "base_uri": "https://localhost:8080/"
        },
        "id": "6Y0lHKEnXy-r",
        "outputId": "b5b53dcb-24cf-4188-f127-233e95ecbb43"
      },
      "execution_count": null,
      "outputs": [
        {
          "output_type": "execute_result",
          "data": {
            "text/plain": [
              "(2, 4)"
            ]
          },
          "metadata": {},
          "execution_count": 6
        }
      ]
    },
    {
      "cell_type": "code",
      "source": [
        "a.ndim"
      ],
      "metadata": {
        "colab": {
          "base_uri": "https://localhost:8080/"
        },
        "id": "Oj-5zqYhYeng",
        "outputId": "72d0b6b0-d154-4a9b-be77-b94c115ad7c2"
      },
      "execution_count": null,
      "outputs": [
        {
          "output_type": "execute_result",
          "data": {
            "text/plain": [
              "2"
            ]
          },
          "metadata": {},
          "execution_count": 7
        }
      ]
    },
    {
      "cell_type": "code",
      "source": [
        "a.size"
      ],
      "metadata": {
        "colab": {
          "base_uri": "https://localhost:8080/"
        },
        "id": "M2nWJeW6YhPb",
        "outputId": "b584fa8a-c1d3-453f-993b-72de5df84304"
      },
      "execution_count": null,
      "outputs": [
        {
          "output_type": "execute_result",
          "data": {
            "text/plain": [
              "8"
            ]
          },
          "metadata": {},
          "execution_count": 8
        }
      ]
    },
    {
      "cell_type": "markdown",
      "source": [
        "## Creación de Arrays"
      ],
      "metadata": {
        "id": "dNiklGDbYozY"
      }
    },
    {
      "cell_type": "code",
      "source": [
        "# Array cuyos valores son todos 0\n",
        "np.zeros((2,3,4))"
      ],
      "metadata": {
        "colab": {
          "base_uri": "https://localhost:8080/"
        },
        "id": "IFL8KAeMYi8B",
        "outputId": "ee4c4f57-ea3c-4d13-f96e-88017d8c66c0"
      },
      "execution_count": null,
      "outputs": [
        {
          "output_type": "execute_result",
          "data": {
            "text/plain": [
              "array([[[0., 0., 0., 0.],\n",
              "        [0., 0., 0., 0.],\n",
              "        [0., 0., 0., 0.]],\n",
              "\n",
              "       [[0., 0., 0., 0.],\n",
              "        [0., 0., 0., 0.],\n",
              "        [0., 0., 0., 0.]]])"
            ]
          },
          "metadata": {},
          "execution_count": 10
        }
      ]
    },
    {
      "cell_type": "code",
      "source": [
        "# Array cuyos valores son todos 1\n",
        "np.ones((2,3,4))"
      ],
      "metadata": {
        "colab": {
          "base_uri": "https://localhost:8080/"
        },
        "id": "VmmGfqvgYwyQ",
        "outputId": "f51c83a2-3272-484e-894a-f1477ce5f202"
      },
      "execution_count": null,
      "outputs": [
        {
          "output_type": "execute_result",
          "data": {
            "text/plain": [
              "array([[[1., 1., 1., 1.],\n",
              "        [1., 1., 1., 1.],\n",
              "        [1., 1., 1., 1.]],\n",
              "\n",
              "       [[1., 1., 1., 1.],\n",
              "        [1., 1., 1., 1.],\n",
              "        [1., 1., 1., 1.]]])"
            ]
          },
          "metadata": {},
          "execution_count": 11
        }
      ]
    },
    {
      "cell_type": "code",
      "source": [
        "# Array cuyos valores son todos el valor indicado como segundo parámetro de la función\n",
        "np.full((2,3,4),8)"
      ],
      "metadata": {
        "colab": {
          "base_uri": "https://localhost:8080/"
        },
        "id": "_fmtLvZCY_NQ",
        "outputId": "0c3d9c16-b980-4e56-e007-493a8a56c3be"
      },
      "execution_count": null,
      "outputs": [
        {
          "output_type": "execute_result",
          "data": {
            "text/plain": [
              "array([[[8, 8, 8, 8],\n",
              "        [8, 8, 8, 8],\n",
              "        [8, 8, 8, 8]],\n",
              "\n",
              "       [[8, 8, 8, 8],\n",
              "        [8, 8, 8, 8],\n",
              "        [8, 8, 8, 8]]])"
            ]
          },
          "metadata": {},
          "execution_count": 13
        }
      ]
    },
    {
      "cell_type": "code",
      "source": [
        "# El resultado de np.empty no es predecible\n",
        "# Inicializa los valores del array con lo que haya en memoria en ese momento\n",
        "np.empty((2,3,9))"
      ],
      "metadata": {
        "colab": {
          "base_uri": "https://localhost:8080/"
        },
        "id": "PwaKS-m4ZInM",
        "outputId": "caa304fa-2221-4179-828e-273ad9542185"
      },
      "execution_count": null,
      "outputs": [
        {
          "output_type": "execute_result",
          "data": {
            "text/plain": [
              "array([[[4.76534581e-310, 0.00000000e+000, 6.72974487e-310,\n",
              "         6.72974481e-310, 6.72974484e-310, 6.72974484e-310,\n",
              "         6.72973409e-310, 6.72974484e-310, 6.72973413e-310],\n",
              "        [6.72969345e-310, 6.72969345e-310, 6.72974052e-310,\n",
              "         6.72974481e-310, 6.72969344e-310, 6.72974478e-310,\n",
              "         6.72974480e-310, 6.72974478e-310, 6.72974478e-310],\n",
              "        [6.72974478e-310, 6.72969345e-310, 6.72974411e-310,\n",
              "         6.72974472e-310, 6.72974411e-310, 6.72969345e-310,\n",
              "         6.72974415e-310, 6.72974480e-310, 6.72974411e-310]],\n",
              "\n",
              "       [[6.72969345e-310, 6.72974480e-310, 6.72969335e-310,\n",
              "         6.72969345e-310, 6.72974287e-310, 6.72974480e-310,\n",
              "         6.72974287e-310, 6.72974287e-310, 6.72969345e-310],\n",
              "        [6.72974480e-310, 6.72969345e-310, 6.72974479e-310,\n",
              "         6.72974480e-310, 6.72974479e-310, 6.72974479e-310,\n",
              "         6.72969345e-310, 6.72974051e-310, 6.01347002e-154],\n",
              "        [4.00193173e-322, 4.76634469e-310, 6.72974515e-310,\n",
              "         2.32391672e-152, 3.01468689e+161, 7.34746839e+223,\n",
              "         2.49970340e+262, 1.84584433e-258, 6.72974515e-310]]])"
            ]
          },
          "metadata": {},
          "execution_count": 14
        }
      ]
    },
    {
      "cell_type": "code",
      "source": [
        "# Inicialización del array utilizando una lista de Python\n",
        "b = np.array([[1,2,3], [4,5,6]])"
      ],
      "metadata": {
        "id": "lpULt3HZaU5p"
      },
      "execution_count": null,
      "outputs": []
    },
    {
      "cell_type": "code",
      "source": [
        "b.ndim"
      ],
      "metadata": {
        "colab": {
          "base_uri": "https://localhost:8080/"
        },
        "id": "ZuI7gEOQawKn",
        "outputId": "c2b3e034-1455-4bd3-cdbf-8ddbb17ec54d"
      },
      "execution_count": null,
      "outputs": [
        {
          "output_type": "execute_result",
          "data": {
            "text/plain": [
              "2"
            ]
          },
          "metadata": {},
          "execution_count": 21
        }
      ]
    },
    {
      "cell_type": "code",
      "source": [
        "# Creación del array utilizando una función basada en rangos\n",
        "# (mínimo, máximo, número elementos del array)\n",
        "print(np.linspace(0,6,10))"
      ],
      "metadata": {
        "colab": {
          "base_uri": "https://localhost:8080/"
        },
        "id": "Cd5jO508awlk",
        "outputId": "ac1aaecc-1371-456f-d48c-4678197969f3"
      },
      "execution_count": null,
      "outputs": [
        {
          "output_type": "stream",
          "name": "stdout",
          "text": [
            "[0.         0.66666667 1.33333333 2.         2.66666667 3.33333333\n",
            " 4.         4.66666667 5.33333333 6.        ]\n"
          ]
        }
      ]
    },
    {
      "cell_type": "code",
      "source": [
        "# Inicialización del array con valores aleatorios\n",
        "np.random.rand(2,3,4)"
      ],
      "metadata": {
        "colab": {
          "base_uri": "https://localhost:8080/"
        },
        "id": "p4ZZx_h0bYD6",
        "outputId": "b9460b02-8afb-40f1-c2ab-c0c295746f8f"
      },
      "execution_count": null,
      "outputs": [
        {
          "output_type": "execute_result",
          "data": {
            "text/plain": [
              "array([[[0.08845379, 0.42065239, 0.87742551, 0.29463863],\n",
              "        [0.86893677, 0.06453934, 0.43677281, 0.03157139],\n",
              "        [0.63143668, 0.49962236, 0.68177386, 0.59160081]],\n",
              "\n",
              "       [[0.79588244, 0.13002581, 0.61378651, 0.18021488],\n",
              "        [0.9090717 , 0.19889289, 0.50989996, 0.55514804],\n",
              "        [0.10302764, 0.35847841, 0.88450574, 0.22978789]]])"
            ]
          },
          "metadata": {},
          "execution_count": 23
        }
      ]
    },
    {
      "cell_type": "code",
      "source": [
        "# Inicialización del array con valores aleatorios conforme a una distribución normal\n",
        "np.random.randn(2,4)"
      ],
      "metadata": {
        "colab": {
          "base_uri": "https://localhost:8080/"
        },
        "id": "2B0DWaEUbmIh",
        "outputId": "59874988-11b3-42f9-dc93-30e59b8f1fe2"
      },
      "execution_count": null,
      "outputs": [
        {
          "output_type": "execute_result",
          "data": {
            "text/plain": [
              "array([[ 1.01578954,  0.87152899,  1.07359504, -1.1262618 ],\n",
              "       [ 0.38567498, -0.18869756, -0.33607698, -0.58861971]])"
            ]
          },
          "metadata": {},
          "execution_count": 25
        }
      ]
    },
    {
      "cell_type": "code",
      "source": [
        "%matplotlib inline\n",
        "import matplotlib.pyplot as plt\n",
        "\n",
        "c = np.random.randn(1000000)\n",
        "\n",
        "plt.hist(c, bins=200)\n",
        "plt.show()"
      ],
      "metadata": {
        "colab": {
          "base_uri": "https://localhost:8080/",
          "height": 430
        },
        "id": "dvGG6Yi4bzho",
        "outputId": "4cb61e0a-0959-4e33-a801-f6b58c0001e8"
      },
      "execution_count": null,
      "outputs": [
        {
          "output_type": "display_data",
          "data": {
            "text/plain": [
              "<Figure size 640x480 with 1 Axes>"
            ],
            "image/png": "[encoded data removed]"
          },
          "metadata": {}
        }
      ]
    },
    {
      "cell_type": "markdown",
      "source": [
        "## Acceso a los elementos de un array"
      ],
      "metadata": {
        "id": "ZKMo0vNHcxLs"
      }
    },
    {
      "cell_type": "markdown",
      "source": [
        "### Array unidimensional"
      ],
      "metadata": {
        "id": "DkUYUktAc4yR"
      }
    },
    {
      "cell_type": "code",
      "source": [
        "# Creación de un Array unidimensional\n",
        "array_uni = np.array([1,3,5,7,9,11])\n",
        "print(array_uni.shape)\n",
        "print(array_uni)"
      ],
      "metadata": {
        "colab": {
          "base_uri": "https://localhost:8080/"
        },
        "id": "wsOx7fQbcFk0",
        "outputId": "0b6b76c2-0f1c-4e54-d335-cc2926d7f81c"
      },
      "execution_count": null,
      "outputs": [
        {
          "output_type": "stream",
          "name": "stdout",
          "text": [
            "(6,)\n",
            "[ 1  3  5  7  9 11]\n"
          ]
        }
      ]
    },
    {
      "cell_type": "code",
      "source": [
        "# Accediendo al quinto elemento del Array\n",
        "array_uni[4]"
      ],
      "metadata": {
        "colab": {
          "base_uri": "https://localhost:8080/"
        },
        "id": "mathr9X6c_-Z",
        "outputId": "05e4c690-57d7-4554-dea5-d3b1b4e3665e"
      },
      "execution_count": null,
      "outputs": [
        {
          "output_type": "execute_result",
          "data": {
            "text/plain": [
              "9"
            ]
          },
          "metadata": {},
          "execution_count": 28
        }
      ]
    },
    {
      "cell_type": "code",
      "source": [
        "# Accediendo al tercer y cuarto elemento del Array\n",
        "array_uni[2:4]"
      ],
      "metadata": {
        "colab": {
          "base_uri": "https://localhost:8080/"
        },
        "id": "zfKmNdbhdDy4",
        "outputId": "33f70315-0ab0-4ffe-fd9e-bfe7a463063a"
      },
      "execution_count": null,
      "outputs": [
        {
          "output_type": "execute_result",
          "data": {
            "text/plain": [
              "array([5, 7])"
            ]
          },
          "metadata": {},
          "execution_count": 30
        }
      ]
    },
    {
      "cell_type": "code",
      "source": [
        "# Accediendo a los elementos 0, 3 y 5 del Array\n",
        "array_uni[0::3]"
      ],
      "metadata": {
        "colab": {
          "base_uri": "https://localhost:8080/"
        },
        "id": "KlOcyGamdH4-",
        "outputId": "186b1f2d-40f9-4f00-a09d-7c187b3bdf3f"
      },
      "execution_count": null,
      "outputs": [
        {
          "output_type": "execute_result",
          "data": {
            "text/plain": [
              "array([1, 7])"
            ]
          },
          "metadata": {},
          "execution_count": 32
        }
      ]
    },
    {
      "cell_type": "markdown",
      "source": [
        "### Array multidemsional"
      ],
      "metadata": {
        "id": "lZpFg2Ngd-bM"
      }
    },
    {
      "cell_type": "code",
      "source": [
        "# Creación de un Array multidimensional\n",
        "array_multi = np.array([[1,2,3,4],[5,6,7,8]])\n",
        "print(array_multi.shape)\n",
        "array_multi"
      ],
      "metadata": {
        "colab": {
          "base_uri": "https://localhost:8080/"
        },
        "id": "3go8vgq6d2Mv",
        "outputId": "8cfbde42-dda5-4cd6-8191-f25d1fc67264"
      },
      "execution_count": null,
      "outputs": [
        {
          "output_type": "stream",
          "name": "stdout",
          "text": [
            "(2, 4)\n"
          ]
        },
        {
          "output_type": "execute_result",
          "data": {
            "text/plain": [
              "array([[1, 2, 3, 4],\n",
              "       [5, 6, 7, 8]])"
            ]
          },
          "metadata": {},
          "execution_count": 33
        }
      ]
    },
    {
      "cell_type": "code",
      "source": [
        "# Accediendo al cuarto elemento del Array\n",
        "array_multi[0,3]"
      ],
      "metadata": {
        "colab": {
          "base_uri": "https://localhost:8080/"
        },
        "id": "PQgh7Xu1eKYZ",
        "outputId": "e7331b90-4fa9-4976-807c-075bed836c39"
      },
      "execution_count": null,
      "outputs": [
        {
          "output_type": "execute_result",
          "data": {
            "text/plain": [
              "4"
            ]
          },
          "metadata": {},
          "execution_count": 34
        }
      ]
    },
    {
      "cell_type": "code",
      "source": [
        "# Accediendo a la segunda fila del Array\n",
        "array_multi[1,:]"
      ],
      "metadata": {
        "colab": {
          "base_uri": "https://localhost:8080/"
        },
        "id": "Nx6flW4DeNlG",
        "outputId": "e09c7018-8b0b-43d3-db38-f98d122860e6"
      },
      "execution_count": null,
      "outputs": [
        {
          "output_type": "execute_result",
          "data": {
            "text/plain": [
              "array([5, 6, 7, 8])"
            ]
          },
          "metadata": {},
          "execution_count": 35
        }
      ]
    },
    {
      "cell_type": "code",
      "source": [
        "# Accediendo al tercer elemento de las dos primeras filas del Array\n",
        "array_multi[0:2,2]"
      ],
      "metadata": {
        "colab": {
          "base_uri": "https://localhost:8080/"
        },
        "id": "BgeR3l2SeQpZ",
        "outputId": "854c1bbd-7ba9-481a-a848-3a714f5b54b4"
      },
      "execution_count": null,
      "outputs": [
        {
          "output_type": "execute_result",
          "data": {
            "text/plain": [
              "array([3, 7])"
            ]
          },
          "metadata": {},
          "execution_count": 36
        }
      ]
    },
    {
      "cell_type": "markdown",
      "source": [
        "### Modificación de un Array"
      ],
      "metadata": {
        "id": "WVFLDzx-f3yg"
      }
    },
    {
      "cell_type": "code",
      "source": [
        "# Creación de un Array unidimensional incializado con el ranfo de elementos 0-27\n",
        "array1 = np.arange(28)"
      ],
      "metadata": {
        "id": "yHKyPF0lfdY1"
      },
      "execution_count": 37,
      "outputs": []
    },
    {
      "cell_type": "code",
      "source": [
        "array1"
      ],
      "metadata": {
        "colab": {
          "base_uri": "https://localhost:8080/"
        },
        "id": "Pap-CKp5g2A7",
        "outputId": "9e87d333-e688-4669-fa40-cc48d729bfd0"
      },
      "execution_count": 38,
      "outputs": [
        {
          "output_type": "execute_result",
          "data": {
            "text/plain": [
              "array([ 0,  1,  2,  3,  4,  5,  6,  7,  8,  9, 10, 11, 12, 13, 14, 15, 16,\n",
              "       17, 18, 19, 20, 21, 22, 23, 24, 25, 26, 27])"
            ]
          },
          "metadata": {},
          "execution_count": 38
        }
      ]
    },
    {
      "cell_type": "code",
      "source": [
        "# Cambiar las dimensiones del Array y sus Longitudes\n",
        "array1.shape = (7,4)"
      ],
      "metadata": {
        "id": "QUfBK8c6gRF8"
      },
      "execution_count": 40,
      "outputs": []
    },
    {
      "cell_type": "code",
      "source": [
        "array1"
      ],
      "metadata": {
        "colab": {
          "base_uri": "https://localhost:8080/"
        },
        "id": "CtkcHggjhJaq",
        "outputId": "1e47aa7c-1c85-4945-d8d6-c1b5ece15d3f"
      },
      "execution_count": 42,
      "outputs": [
        {
          "output_type": "execute_result",
          "data": {
            "text/plain": [
              "array([[ 0,  1,  2,  3],\n",
              "       [ 4,  5,  6,  7],\n",
              "       [ 8,  9, 10, 11],\n",
              "       [12, 13, 14, 15],\n",
              "       [16, 17, 18, 19],\n",
              "       [20, 21, 22, 23],\n",
              "       [24, 25, 26, 27]])"
            ]
          },
          "metadata": {},
          "execution_count": 42
        }
      ]
    },
    {
      "cell_type": "code",
      "source": [
        "# El ejemplo anterior devuelve un nuevo Array que apunta a los mismos datos.\n",
        "# Importante: Modificaciónes en un Array, modificaran el otro Array\n",
        "array2 = array1.reshape(4,7)"
      ],
      "metadata": {
        "id": "U0mYb5sdgWGY"
      },
      "execution_count": 43,
      "outputs": []
    },
    {
      "cell_type": "code",
      "source": [
        "array2"
      ],
      "metadata": {
        "colab": {
          "base_uri": "https://localhost:8080/"
        },
        "id": "Tn9qBzffhvyN",
        "outputId": "da932765-bca7-4c82-decd-d44969852484"
      },
      "execution_count": 44,
      "outputs": [
        {
          "output_type": "execute_result",
          "data": {
            "text/plain": [
              "array([[ 0,  1,  2,  3,  4,  5,  6],\n",
              "       [ 7,  8,  9, 10, 11, 12, 13],\n",
              "       [14, 15, 16, 17, 18, 19, 20],\n",
              "       [21, 22, 23, 24, 25, 26, 27]])"
            ]
          },
          "metadata": {},
          "execution_count": 44
        }
      ]
    },
    {
      "cell_type": "code",
      "source": [
        "# Modificación del nuevo Array devuelto\n",
        "array2[0,3] = 20"
      ],
      "metadata": {
        "id": "_QvgkePIgitI"
      },
      "execution_count": 45,
      "outputs": []
    },
    {
      "cell_type": "code",
      "source": [
        "array2"
      ],
      "metadata": {
        "colab": {
          "base_uri": "https://localhost:8080/"
        },
        "id": "iCZsNVu7iEbq",
        "outputId": "88050454-9393-4905-8a85-21dafe41b13e"
      },
      "execution_count": 46,
      "outputs": [
        {
          "output_type": "execute_result",
          "data": {
            "text/plain": [
              "array([[ 0,  1,  2, 20,  4,  5,  6],\n",
              "       [ 7,  8,  9, 10, 11, 12, 13],\n",
              "       [14, 15, 16, 17, 18, 19, 20],\n",
              "       [21, 22, 23, 24, 25, 26, 27]])"
            ]
          },
          "metadata": {},
          "execution_count": 46
        }
      ]
    },
    {
      "cell_type": "code",
      "source": [
        "array1"
      ],
      "metadata": {
        "colab": {
          "base_uri": "https://localhost:8080/"
        },
        "id": "NY-Ik50_iFiY",
        "outputId": "8a06c4f0-8b6a-4a2f-e519-e0fe3ffd53e9"
      },
      "execution_count": 47,
      "outputs": [
        {
          "output_type": "execute_result",
          "data": {
            "text/plain": [
              "array([[ 0,  1,  2, 20],\n",
              "       [ 4,  5,  6,  7],\n",
              "       [ 8,  9, 10, 11],\n",
              "       [12, 13, 14, 15],\n",
              "       [16, 17, 18, 19],\n",
              "       [20, 21, 22, 23],\n",
              "       [24, 25, 26, 27]])"
            ]
          },
          "metadata": {},
          "execution_count": 47
        }
      ]
    },
    {
      "cell_type": "code",
      "source": [
        "# Desenvuelve el Array, devolviendo un nuevo Array de una sola dimensión\n",
        "# Importante: El nuevo array apunta a los mismo datos\n",
        "array1.ravel()"
      ],
      "metadata": {
        "colab": {
          "base_uri": "https://localhost:8080/"
        },
        "id": "tVLrR2u8iIvN",
        "outputId": "ac16e21e-34a5-47f5-aa1d-2fbec25fd562"
      },
      "execution_count": 48,
      "outputs": [
        {
          "output_type": "execute_result",
          "data": {
            "text/plain": [
              "array([ 0,  1,  2, 20,  4,  5,  6,  7,  8,  9, 10, 11, 12, 13, 14, 15, 16,\n",
              "       17, 18, 19, 20, 21, 22, 23, 24, 25, 26, 27])"
            ]
          },
          "metadata": {},
          "execution_count": 48
        }
      ]
    },
    {
      "cell_type": "markdown",
      "source": [
        "### Operaciones aritméticas con Arrays"
      ],
      "metadata": {
        "id": "qSrf7GUBipoZ"
      }
    },
    {
      "cell_type": "code",
      "source": [
        "# Creación de dos Arrays unidimensionales\n",
        "array1 = np.arange(2,18,2)\n",
        "array2 = np.arange(8)\n",
        "print(\"Array 1:\", array1)\n",
        "print(\"Array 2:\", array2)"
      ],
      "metadata": {
        "colab": {
          "base_uri": "https://localhost:8080/"
        },
        "id": "pAgeLnyoiiV6",
        "outputId": "ed99fa91-051f-4ec0-c9e5-3155e18ce9a3"
      },
      "execution_count": 49,
      "outputs": [
        {
          "output_type": "stream",
          "name": "stdout",
          "text": [
            "Array 1: [ 2  4  6  8 10 12 14 16]\n",
            "Array 2: [0 1 2 3 4 5 6 7]\n"
          ]
        }
      ]
    },
    {
      "cell_type": "code",
      "source": [
        "# Suma\n",
        "array1+array2"
      ],
      "metadata": {
        "colab": {
          "base_uri": "https://localhost:8080/"
        },
        "id": "mtlUG-Hlixwm",
        "outputId": "e9c5d693-35ca-4b01-84b4-707cdd7c6ae9"
      },
      "execution_count": 50,
      "outputs": [
        {
          "output_type": "execute_result",
          "data": {
            "text/plain": [
              "array([ 2,  5,  8, 11, 14, 17, 20, 23])"
            ]
          },
          "metadata": {},
          "execution_count": 50
        }
      ]
    },
    {
      "cell_type": "code",
      "source": [
        "# Resta\n",
        "array1-array2"
      ],
      "metadata": {
        "colab": {
          "base_uri": "https://localhost:8080/"
        },
        "id": "7kisD2GZizBV",
        "outputId": "848030da-0fef-484e-e1d1-ddd76bf4cdea"
      },
      "execution_count": 51,
      "outputs": [
        {
          "output_type": "execute_result",
          "data": {
            "text/plain": [
              "array([2, 3, 4, 5, 6, 7, 8, 9])"
            ]
          },
          "metadata": {},
          "execution_count": 51
        }
      ]
    },
    {
      "cell_type": "code",
      "source": [
        "# Multiplicación\n",
        "# Importante: No es una multiplicación de matrices\n",
        "array1*array2"
      ],
      "metadata": {
        "colab": {
          "base_uri": "https://localhost:8080/"
        },
        "id": "J4Bm2TKji0zG",
        "outputId": "70262c15-2b05-4666-dfbe-78563dcc110f"
      },
      "execution_count": 52,
      "outputs": [
        {
          "output_type": "execute_result",
          "data": {
            "text/plain": [
              "array([  0,   4,  12,  24,  40,  60,  84, 112])"
            ]
          },
          "metadata": {},
          "execution_count": 52
        }
      ]
    },
    {
      "cell_type": "markdown",
      "source": [
        "### Broadcasting\n",
        "\n",
        "Si se aplican operaciones aritméticas sobre Arrays que no tienen la misma forma (shape) Numpy aplica una propiedad que se denomina Broadcasting."
      ],
      "metadata": {
        "id": "6FgFo7tAkAYd"
      }
    },
    {
      "cell_type": "code",
      "source": [
        "# Creación de dos Arrays unidimensionales\n",
        "array1 = np.arange(5)\n",
        "array2 = np.array([3])\n",
        "print(\"Shape Array 1: \", array1.shape)\n",
        "print(\"Array 1: \", array1)\n",
        "print()\n",
        "print(\"Shaoe Array 2: \", array2.shape)\n",
        "print(\"Array 2: \", array2)"
      ],
      "metadata": {
        "colab": {
          "base_uri": "https://localhost:8080/"
        },
        "id": "-h-MqpArj2Lj",
        "outputId": "836bcf0d-2705-4a97-d6e2-d7858e88ae90"
      },
      "execution_count": 53,
      "outputs": [
        {
          "output_type": "stream",
          "name": "stdout",
          "text": [
            "Shape Array 1:  (5,)\n",
            "Array 1:  [0 1 2 3 4]\n",
            "\n",
            "Shaoe Array 2:  (1,)\n",
            "Array 2:  [3]\n"
          ]
        }
      ]
    },
    {
      "cell_type": "code",
      "source": [
        "# Suma de ambos Arrays\n",
        "array1+array2"
      ],
      "metadata": {
        "colab": {
          "base_uri": "https://localhost:8080/"
        },
        "id": "1-TiroT2lEE-",
        "outputId": "215e70ae-7b3a-4d3f-dbff-795bb532023d"
      },
      "execution_count": 54,
      "outputs": [
        {
          "output_type": "execute_result",
          "data": {
            "text/plain": [
              "array([3, 4, 5, 6, 7])"
            ]
          },
          "metadata": {},
          "execution_count": 54
        }
      ]
    },
    {
      "cell_type": "code",
      "source": [
        "# Creación de dos Arrays multidimensional y unidimensional\n",
        "array1 = np.arange(6)\n",
        "array1.shape = (2,3)\n",
        "array2 = np.arange(6,18,4)\n",
        "print(\"Shape Array 1: \", array1.shape)\n",
        "print(\"Array 1:\\n\", array1)\n",
        "print()\n",
        "print(\"Shaoe Array 2: \", array2.shape)\n",
        "print(\"Array 2: \", array2)"
      ],
      "metadata": {
        "colab": {
          "base_uri": "https://localhost:8080/"
        },
        "id": "3cWaV54old2K",
        "outputId": "001751b2-af5e-4051-907b-99e63c08c0dd"
      },
      "execution_count": 58,
      "outputs": [
        {
          "output_type": "stream",
          "name": "stdout",
          "text": [
            "Shape Array 1:  (2, 3)\n",
            "Array 1:\n",
            " [[0 1 2]\n",
            " [3 4 5]]\n",
            "\n",
            "Shaoe Array 2:  (3,)\n",
            "Array 2:  [ 6 10 14]\n"
          ]
        }
      ]
    },
    {
      "cell_type": "code",
      "source": [
        "# Suma de ambos Arrays\n",
        "array1 + array2"
      ],
      "metadata": {
        "colab": {
          "base_uri": "https://localhost:8080/"
        },
        "id": "AJZKAoNYmZeT",
        "outputId": "f1cdd851-91b8-4753-9b48-9921b5fac1ac"
      },
      "execution_count": 59,
      "outputs": [
        {
          "output_type": "execute_result",
          "data": {
            "text/plain": [
              "array([[ 6, 11, 16],\n",
              "       [ 9, 14, 19]])"
            ]
          },
          "metadata": {},
          "execution_count": 59
        }
      ]
    },
    {
      "cell_type": "code",
      "source": [],
      "metadata": {
        "id": "gMTDF3qDmyrD"
      },
      "execution_count": null,
      "outputs": []
    }
  ]
}