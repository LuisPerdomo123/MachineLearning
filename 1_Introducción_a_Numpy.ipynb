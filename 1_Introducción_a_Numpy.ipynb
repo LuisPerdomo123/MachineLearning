{
  "nbformat": 4,
  "nbformat_minor": 0,
  "metadata": {
    "colab": {
      "provenance": [],
      "authorship_tag": "ABX9TyNHoIwv6vnJwcHxQtGw35rk",
      "include_colab_link": true
    },
    "kernelspec": {
      "name": "python3",
      "display_name": "Python 3"
    },
    "language_info": {
      "name": "python"
    }
  },
  "cells": [
    {
      "cell_type": "markdown",
      "metadata": {
        "id": "view-in-github",
        "colab_type": "text"
      },
      "source": [
        "<a href=\"https://colab.research.google.com/github/LuisPerdomo123/MachineLearning/blob/main/1_Introducci%C3%B3n_a_Numpy.ipynb\" target=\"_parent\"><img src=\"https://colab.research.google.com/assets/colab-badge.svg\" alt=\"Open In Colab\"/></a>"
      ]
    },
    {
      "cell_type": "markdown",
      "source": [
        "# Introducción a NumPy"
      ],
      "metadata": {
        "id": "CbsDqclqVFTe"
      }
    },
    {
      "cell_type": "markdown",
      "source": [
        "Numpy es una librería fundamental para la computación científica con Python.\n",
        "\n",
        "\n",
        "\n",
        "*   Proporciona arrays N-dimensionales\n",
        "*   Implementa funciones matemáticas sofisticadas\n",
        "*   Proporciona herramientas para integrar C/C++ y Fortran\n",
        "*   Proporciona mecanismos para facilitar la realización de tareas relacionadas con álgebra lineal o números aleatorios.\n",
        "\n"
      ],
      "metadata": {
        "id": "kg0aneUEVJZv"
      }
    },
    {
      "cell_type": "markdown",
      "source": [
        "## Imports"
      ],
      "metadata": {
        "id": "vd-1erwhVlZk"
      }
    },
    {
      "cell_type": "code",
      "execution_count": 1,
      "metadata": {
        "id": "mBbz8iUNVDn6"
      },
      "outputs": [],
      "source": [
        "import numpy as np"
      ]
    },
    {
      "cell_type": "markdown",
      "source": [
        "## Arrays\n",
        "\n",
        "Un **arrary** es una estructura de datos que consiste en una colección de elementos (valores o variables), cada uno identificado por al menos un indice o clave. Un array se almacena de modo que la posición de cada elemento se pueda calcular a partir de su tupla de indice mediante una fórmiula matemática. El tipo más simple de array es un array lineal, también llamado array unidimensional.\n",
        "\n",
        "En numpy:\n",
        "\n",
        "\n",
        "*   Cada dimensión se denomina **axis**\n",
        "*   El número de dimensiones se denomina **rank**\n",
        "*   La lista de dimensiones con su correspondiente longitud se denimina **shape**\n",
        "*   El número total de elementos (multiplicación de la longitud de las dimensiones) se denomina **size**"
      ],
      "metadata": {
        "id": "lC9dVbCSWUE3"
      }
    },
    {
      "cell_type": "code",
      "source": [
        "# Array cuyos valores son todos\n",
        "a = np.zeros((2, 4)) # Tiene dos filas y cuatro columnas"
      ],
      "metadata": {
        "id": "EisYdkB8WRfy"
      },
      "execution_count": 4,
      "outputs": []
    },
    {
      "cell_type": "code",
      "source": [
        "a"
      ],
      "metadata": {
        "colab": {
          "base_uri": "https://localhost:8080/"
        },
        "id": "G06N3amkXyib",
        "outputId": "41aaf9c9-b3b0-4f61-da06-8f2b0d3858a7"
      },
      "execution_count": 5,
      "outputs": [
        {
          "output_type": "execute_result",
          "data": {
            "text/plain": [
              "array([[0., 0., 0., 0.],\n",
              "       [0., 0., 0., 0.]])"
            ]
          },
          "metadata": {},
          "execution_count": 5
        }
      ]
    },
    {
      "cell_type": "markdown",
      "source": [
        "**a** es un array:\n",
        "\n",
        "*   Con dos **axis**, el primero de longitud 2 y el segundo de longitud 4.\n",
        "*   Con un **rank** igual a 2.\n",
        "*   Con un **shape** igual (2, 4)\n",
        "*   Con un **size** igual a 8\n",
        "\n"
      ],
      "metadata": {
        "id": "Ap_MtYciX78k"
      }
    },
    {
      "cell_type": "code",
      "source": [
        "a.shape"
      ],
      "metadata": {
        "colab": {
          "base_uri": "https://localhost:8080/"
        },
        "id": "6Y0lHKEnXy-r",
        "outputId": "b5b53dcb-24cf-4188-f127-233e95ecbb43"
      },
      "execution_count": 6,
      "outputs": [
        {
          "output_type": "execute_result",
          "data": {
            "text/plain": [
              "(2, 4)"
            ]
          },
          "metadata": {},
          "execution_count": 6
        }
      ]
    },
    {
      "cell_type": "code",
      "source": [
        "a.ndim"
      ],
      "metadata": {
        "colab": {
          "base_uri": "https://localhost:8080/"
        },
        "id": "Oj-5zqYhYeng",
        "outputId": "72d0b6b0-d154-4a9b-be77-b94c115ad7c2"
      },
      "execution_count": 7,
      "outputs": [
        {
          "output_type": "execute_result",
          "data": {
            "text/plain": [
              "2"
            ]
          },
          "metadata": {},
          "execution_count": 7
        }
      ]
    },
    {
      "cell_type": "code",
      "source": [
        "a.size"
      ],
      "metadata": {
        "colab": {
          "base_uri": "https://localhost:8080/"
        },
        "id": "M2nWJeW6YhPb",
        "outputId": "b584fa8a-c1d3-453f-993b-72de5df84304"
      },
      "execution_count": 8,
      "outputs": [
        {
          "output_type": "execute_result",
          "data": {
            "text/plain": [
              "8"
            ]
          },
          "metadata": {},
          "execution_count": 8
        }
      ]
    },
    {
      "cell_type": "markdown",
      "source": [
        "## Creación de Arrays"
      ],
      "metadata": {
        "id": "dNiklGDbYozY"
      }
    },
    {
      "cell_type": "code",
      "source": [
        "# Array cuyos valores son todos 0\n",
        "np.zeros((2,3,4))"
      ],
      "metadata": {
        "colab": {
          "base_uri": "https://localhost:8080/"
        },
        "id": "IFL8KAeMYi8B",
        "outputId": "ee4c4f57-ea3c-4d13-f96e-88017d8c66c0"
      },
      "execution_count": 10,
      "outputs": [
        {
          "output_type": "execute_result",
          "data": {
            "text/plain": [
              "array([[[0., 0., 0., 0.],\n",
              "        [0., 0., 0., 0.],\n",
              "        [0., 0., 0., 0.]],\n",
              "\n",
              "       [[0., 0., 0., 0.],\n",
              "        [0., 0., 0., 0.],\n",
              "        [0., 0., 0., 0.]]])"
            ]
          },
          "metadata": {},
          "execution_count": 10
        }
      ]
    },
    {
      "cell_type": "code",
      "source": [
        "# Array cuyos valores son todos 1\n",
        "np.ones((2,3,4))"
      ],
      "metadata": {
        "colab": {
          "base_uri": "https://localhost:8080/"
        },
        "id": "VmmGfqvgYwyQ",
        "outputId": "f51c83a2-3272-484e-894a-f1477ce5f202"
      },
      "execution_count": 11,
      "outputs": [
        {
          "output_type": "execute_result",
          "data": {
            "text/plain": [
              "array([[[1., 1., 1., 1.],\n",
              "        [1., 1., 1., 1.],\n",
              "        [1., 1., 1., 1.]],\n",
              "\n",
              "       [[1., 1., 1., 1.],\n",
              "        [1., 1., 1., 1.],\n",
              "        [1., 1., 1., 1.]]])"
            ]
          },
          "metadata": {},
          "execution_count": 11
        }
      ]
    },
    {
      "cell_type": "code",
      "source": [
        "# Array cuyos valores son todos el valor indicado como segundo parámetro de la función\n"
      ],
      "metadata": {
        "id": "_fmtLvZCY_NQ"
      },
      "execution_count": 12,
      "outputs": []
    },
    {
      "cell_type": "code",
      "source": [],
      "metadata": {
        "id": "PwaKS-m4ZInM"
      },
      "execution_count": null,
      "outputs": []
    }
  ]
}